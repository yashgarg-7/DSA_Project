{
  "nbformat": 4,
  "nbformat_minor": 0,
  "metadata": {
    "colab": {
      "name": "DSA_Project.ipynb",
      "provenance": [],
      "authorship_tag": "ABX9TyOdsUeFkHrH/W+b8DRAM/hp",
      "include_colab_link": true
    },
    "kernelspec": {
      "name": "python3",
      "display_name": "Python 3"
    }
  },
  "cells": [
    {
      "cell_type": "markdown",
      "metadata": {
        "id": "view-in-github",
        "colab_type": "text"
      },
      "source": [
        "<a href=\"https://colab.research.google.com/github/yashgarg-7/DSA_Project/blob/main/DSA_Project.ipynb\" target=\"_parent\"><img src=\"https://colab.research.google.com/assets/colab-badge.svg\" alt=\"Open In Colab\"/></a>"
      ]
    },
    {
      "cell_type": "markdown",
      "metadata": {
        "id": "RppUGrbLM5QG"
      },
      "source": [
        "# **Encryption Process**"
      ]
    },
    {
      "cell_type": "code",
      "metadata": {
        "id": "Qxc-RfFTCpQj"
      },
      "source": [
        "msg = []"
      ],
      "execution_count": 54,
      "outputs": []
    },
    {
      "cell_type": "code",
      "metadata": {
        "id": "82gcoZZi4OOn"
      },
      "source": [
        "class MyCircularQueue():\n",
        "\n",
        "    def __init__(self, k):\n",
        "        self.k = k\n",
        "        self.queue = [None] * k\n",
        "        self.head = self.tail = -1\n",
        "\n",
        "    # Insert an element into the circular queue\n",
        "    def enqueue(self, data):\n",
        "\n",
        "        if ((self.tail + 1) % self.k == self.head):\n",
        "            print(\"The circular queue is full\\n\")\n",
        "\n",
        "        elif (self.head == -1):\n",
        "            self.head = 0\n",
        "            self.tail = 0\n",
        "            self.queue[self.tail] = data\n",
        "        else:\n",
        "            self.tail = (self.tail + 1) % self.k\n",
        "            self.queue[self.tail] = data\n",
        "\n",
        "    # Delete an element from the circular queue\n",
        "    def dequeue(self):\n",
        "        if (self.head == -1):\n",
        "            print(\"The circular queue is empty\\n\")\n",
        "\n",
        "        elif (self.head == self.tail):\n",
        "            temp = self.queue[self.head]\n",
        "            self.head = -1\n",
        "            self.tail = -1\n",
        "            return temp\n",
        "        else:\n",
        "            temp = self.queue[self.head]\n",
        "            self.head = (self.head + 1) % self.k\n",
        "            return temp\n",
        "\n",
        "    def printCQueue(self):\n",
        "        if(self.head == -1):\n",
        "            print(\"No element in the circular queue\")\n",
        "\n",
        "        elif (self.tail >= self.head):\n",
        "            for i in range(self.head, self.tail + 1):\n",
        "                msg.append(self.queue[i])\n",
        "            \n",
        "        else:\n",
        "            for i in range(self.head, self.k):\n",
        "                msg.append(self.queue[i])\n",
        "            for i in range(0, self.tail + 1):\n",
        "                msg.append(self.queue[i])\n",
        "           "
      ],
      "execution_count": 55,
      "outputs": []
    },
    {
      "cell_type": "code",
      "metadata": {
        "colab": {
          "base_uri": "https://localhost:8080/"
        },
        "id": "P4GHFXScKiZf",
        "outputId": "5a2a671e-4b80-4853-cd3b-48b4175086a8"
      },
      "source": [
        "message = input(\"Enter your Message \")\n",
        "n = len(message)\n",
        "obj = MyCircularQueue(n)\n",
        "\n",
        "for i in message:\n",
        "  #print(i)\n",
        "  obj.enqueue(i)\n",
        "obj.printCQueue()"
      ],
      "execution_count": 56,
      "outputs": [
        {
          "output_type": "stream",
          "text": [
            "Enter your Message we are studying dsa\n"
          ],
          "name": "stdout"
        }
      ]
    },
    {
      "cell_type": "code",
      "metadata": {
        "id": "0Sx_6FfCD2rX"
      },
      "source": [
        "keywords = ['E','F','G','H','I','J','K','L','M','N','O','P','Q','R','S','T','U','V','W','X','Y','Z','A','B','C','D']\n",
        "key_ascii = [ord(i) for i in keywords ]"
      ],
      "execution_count": 57,
      "outputs": []
    },
    {
      "cell_type": "code",
      "metadata": {
        "id": "58f9WuOjEn2V"
      },
      "source": [
        "def decimalToBinary(n):  \n",
        "    return bin(n).replace(\"0b\", \"\")\n",
        "\n",
        "key_bin = [decimalToBinary(k) for k in key_ascii]"
      ],
      "execution_count": 58,
      "outputs": []
    },
    {
      "cell_type": "code",
      "metadata": {
        "id": "CdOVMM0JmAXD"
      },
      "source": [
        "list_ascii= [ord(x) for x in msg]"
      ],
      "execution_count": 59,
      "outputs": []
    },
    {
      "cell_type": "code",
      "metadata": {
        "id": "i8JRz6GQoW3i"
      },
      "source": [
        "list_bin= [decimalToBinary(j) for j in list_ascii]"
      ],
      "execution_count": 60,
      "outputs": []
    },
    {
      "cell_type": "code",
      "metadata": {
        "id": "PVtvPfqe1wJb"
      },
      "source": [
        "def xor(a, b):\n",
        "    n, m, i = len(a), len(b), 0\n",
        "    ans = \"\"\n",
        "    \n",
        "    a1, b1 = a[::-1], b[::-1]\n",
        "    \n",
        "    for i in range(min(n, m)):\n",
        "        if a1[i] == b1[i]:\n",
        "            ans += \"0\"\n",
        "        else:\n",
        "            ans += \"1\"\n",
        "            \n",
        "    if n >= m:\n",
        "        for i in range(m, n):\n",
        "            ans += \"1\"\n",
        "    else:\n",
        "        for i in range(n, m):\n",
        "            ans += \"1\"\n",
        "    ans = ans[::-1]\n",
        "    return ans"
      ],
      "execution_count": 61,
      "outputs": []
    },
    {
      "cell_type": "code",
      "metadata": {
        "id": "1qe76FV1ri4M"
      },
      "source": [
        "list_xor = []\n",
        "for i in range(len(list_bin)):\n",
        "  list_xor.append(xor(list_bin[i],key_bin[i]))\n"
      ],
      "execution_count": 62,
      "outputs": []
    },
    {
      "cell_type": "code",
      "metadata": {
        "id": "TrDx75WctM9C"
      },
      "source": [
        "def binaryToDecimal(n): \n",
        "    return int(n,2) \n",
        "\n",
        "list_dec = [binaryToDecimal(q) for q in list_xor]"
      ],
      "execution_count": 63,
      "outputs": []
    },
    {
      "cell_type": "code",
      "metadata": {
        "colab": {
          "base_uri": "https://localhost:8080/",
          "height": 52
        },
        "id": "1La6hXNwF2Nw",
        "outputId": "61200096-cf62-4a03-a50b-04f08b6bcbb3"
      },
      "source": [
        "print(\"Encrypted Message\")\n",
        "str_int = [str(int) for int in list_dec]\n",
        "\" \".join(str_int)"
      ],
      "execution_count": 64,
      "outputs": [
        {
          "output_type": "stream",
          "text": [
            "Encrypted Message\n"
          ],
          "name": "stdout"
        },
        {
          "output_type": "execute_result",
          "data": {
            "application/vnd.google.colaboratory.intrinsic+json": {
              "type": "string"
            },
            "text/plain": [
              "'50 35 103 41 59 47 107 63 57 59 43 41 56 60 52 116 49 37 54'"
            ]
          },
          "metadata": {
            "tags": []
          },
          "execution_count": 64
        }
      ]
    },
    {
      "cell_type": "markdown",
      "metadata": {
        "id": "mCO3sP6yNLdL"
      },
      "source": [
        "# **Decryption Process**"
      ]
    },
    {
      "cell_type": "code",
      "metadata": {
        "id": "CTXEaQFoCsEo"
      },
      "source": [
        "list_decry_bin = [decimalToBinary(x) for x in list_dec]"
      ],
      "execution_count": 65,
      "outputs": []
    },
    {
      "cell_type": "code",
      "metadata": {
        "id": "wTvQc1gCo7il"
      },
      "source": [
        "list_decry_xor = []\n",
        "for i in range(len(list_decry_bin)):\n",
        "  list_decry_xor.append(xor(list_decry_bin[i],key_bin[i]))\n"
      ],
      "execution_count": 66,
      "outputs": []
    },
    {
      "cell_type": "code",
      "metadata": {
        "id": "dV7WGTQd4Y32"
      },
      "source": [
        "list_decry_dec = []\n",
        "for i in range(len(list_decry_xor)):\n",
        "  list_decry_dec.append(binaryToDecimal(list_decry_xor[i]))"
      ],
      "execution_count": 67,
      "outputs": []
    },
    {
      "cell_type": "code",
      "metadata": {
        "id": "MtoEYunc5N-D"
      },
      "source": [
        "list_final = []\n",
        "for i in range(len(list_decry_dec)):\n",
        "  list_final.append(chr(list_decry_dec[i]))"
      ],
      "execution_count": 68,
      "outputs": []
    },
    {
      "cell_type": "code",
      "metadata": {
        "colab": {
          "base_uri": "https://localhost:8080/",
          "height": 52
        },
        "id": "FKcFE1_UIW0F",
        "outputId": "f8c0d6e6-9d66-46ac-c015-6fbb07d56aa5"
      },
      "source": [
        "print(\"Original Message:\")\n",
        "\"\".join(list_final)"
      ],
      "execution_count": 69,
      "outputs": [
        {
          "output_type": "stream",
          "text": [
            "Original Message:\n"
          ],
          "name": "stdout"
        },
        {
          "output_type": "execute_result",
          "data": {
            "application/vnd.google.colaboratory.intrinsic+json": {
              "type": "string"
            },
            "text/plain": [
              "'we are studying dsa'"
            ]
          },
          "metadata": {
            "tags": []
          },
          "execution_count": 69
        }
      ]
    }
  ]
}